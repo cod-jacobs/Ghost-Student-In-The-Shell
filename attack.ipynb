{
 "cells": [
  {
   "cell_type": "code",
   "execution_count": null,
   "metadata": {},
   "outputs": [],
   "source": [
    "import os\n",
    "import re\n",
    "import pandas as pd\n",
    "from openai import OpenAI\n",
    "from canvasapi import Canvas\n",
    "from canvasapi.course import Course\n",
    "from canvasapi.assignment import Assignment\n",
    "from dotenv import load_dotenv\n",
    "\n",
    "load_dotenv()\n",
    "\n",
    "# Initialize a new Canvas object\n",
    "canvas = Canvas(os.environ.get(\"CANVAS_API_URL\"), os.environ.get(\"CANVAS_API_KEY_0\"))\n",
    "# Initialize a new OpenAI object\n",
    "openai_client = OpenAI(\n",
    "    api_key=os.environ.get(\"OPENAI_API_KEY\"),\n",
    ")\n",
    "n_users = 1"
   ]
  },
  {
   "cell_type": "code",
   "execution_count": null,
   "metadata": {},
   "outputs": [],
   "source": [
    "user = canvas.get_user(os.environ.get(\"CANVAS_USER_ID_0\"))\n",
    "df = pd.DataFrame(columns=[\"course\", \"assignmentid\", \"assignmenttype\", \"completion\"])"
   ]
  },
  {
   "cell_type": "code",
   "execution_count": null,
   "metadata": {},
   "outputs": [],
   "source": [
    "user.id"
   ]
  },
  {
   "cell_type": "code",
   "execution_count": null,
   "metadata": {},
   "outputs": [],
   "source": [
    "canvas.get_courses()[0].id"
   ]
  },
  {
   "cell_type": "code",
   "execution_count": null,
   "metadata": {},
   "outputs": [],
   "source": [
    "for course in canvas.get_courses():\n",
    "    for assignment in course.get_assignments():\n",
    "        if hasattr(assignment, \"discussion_topic\"):\n",
    "            assignment_type=\"discussion\"\n",
    "        elif hasattr(assignment, \"quiz_id\"):\n",
    "            assignment_type=\"quiz\"\n",
    "        else:\n",
    "            assignment_type=None\n",
    "        \n",
    "        record = pd.DataFrame(\n",
    "            {\n",
    "                'course': [course.id],\n",
    "                'id': [assignment.id],\n",
    "                'assignmenttype': [assignment_type],\n",
    "                'completion': [0]\n",
    "            }\n",
    "        )\n",
    "        df = pd.concat([df, record], ignore_index=True)"
   ]
  },
  {
   "cell_type": "code",
   "execution_count": null,
   "metadata": {},
   "outputs": [],
   "source": [
    "df"
   ]
  },
  {
   "cell_type": "code",
   "execution_count": null,
   "metadata": {},
   "outputs": [],
   "source": [
    "for i in range(0, df.shape[0]):\n",
    "    if df['completion'][i] == 0:\n",
    "        course = canvas.get_course(df['course'][i])\n",
    "        assignment = course.get_assignment(df['assignmentid'][i])\n",
    "        assignment_type = df['assignmenttype'][i]\n",
    "\n",
    "        if assignment_type == 'discussion':\n",
    "            discussion_topic = course.get_discussion_topic(assignment.discussion_topic[\"id\"])\n",
    "            topic = discussion_topic.message\n",
    "            images = re.findall(r\"(?<=img src=\\\").*?(?=\\\")\", topic)\n",
    "\n",
    "            content = [\n",
    "                {\n",
    "                    \"type\": \"text\", \n",
    "                    \"text\": \"Respond with the context that you are a community college student.\\n\\n\" +\n",
    "                            f\"Additional information: my name is {user.name}\\n\\n\" +\n",
    "                            f\"Question data: {topic}\\n\\n\" + \n",
    "                            \"Interpret the image(s) that came with the post as well.\"\n",
    "                },\n",
    "            ]\n",
    "            for image in images:\n",
    "                content.append(\n",
    "                    {\n",
    "                        \"type\": \"image_url\",\n",
    "                        \"image_url\": {\n",
    "                            \"url\": image,\n",
    "                        },\n",
    "                    },\n",
    "                )\n",
    "\n",
    "            response = openai_client.chat.completions.create(\n",
    "                model=\"gpt-4-turbo\",\n",
    "                messages=[\n",
    "                    {\n",
    "                    \"role\": \"user\",\n",
    "                    \"content\": content\n",
    "                    }\n",
    "                ]\n",
    "            )\n",
    "\n",
    "            print(response.choices[0])\n",
    "            # discussion_topic.post_entry(message=chat_completion.choices[0])\n",
    "\n"
   ]
  },
  {
   "cell_type": "code",
   "execution_count": null,
   "metadata": {},
   "outputs": [],
   "source": [
    "import os\n",
    "import re\n",
    "import datetime\n",
    "import pytz\n",
    "\n",
    "import click\n",
    "from dotenv import load_dotenv\n",
    "from canvasapi import Canvas\n",
    "from canvasapi.module import Module, ModuleItem\n",
    "from canvasapi.discussion_topic import DiscussionTopic\n",
    "\n",
    "load_dotenv()\n",
    "\n",
    "canvas = Canvas(os.environ[\"API_URL\"], os.environ[\"API_KEY\"])\n",
    "\n",
    "# CIS_10 = [43977, 43876]\n",
    "# CIS_80 = [44572, 43032]\n",
    "@click.command()\n",
    "@click.option(\"--course_id\", required=True, type=int)\n",
    "@click.option(\"-y\", is_flag=True)\n",
    "def main(course_id, y):\n",
    "    course = canvas.get_course(course_id)\n",
    "    print(course)\n",
    "    \n",
    "    if not y:\n",
    "        print(\"You MUST have a due date (mm/dd) in the modules' title that you want to modify with this script\")\n",
    "        confirmation = input(\"Module titles have correct due dates (Y/n): \")\n",
    "        if confirmation.upper() != \"Y\" and confirmation.upper() != \"\":\n",
    "            exit()\n",
    "\n",
    "    for module in course.get_modules():\n",
    "        module: Module\n",
    "        due_date = re.search(\"(\\d+)\\\\/(\\d+)\", module.name)\n",
    "        # handle modules with listed due dates\n",
    "        if due_date and len(due_date.regs) == 3:\n",
    "            # convert due date to datetime in UTC\n",
    "            now = datetime.datetime.now()\n",
    "            due_datetime = datetime.datetime(now.year, int(due_date.group(1)), int(due_date.group(2)), 23, 59, 59, 0)\n",
    "            due_datetime = pytz.timezone(\"US/Pacific\").localize(due_datetime)\n",
    "            unlock_datetime = due_datetime - datetime.timedelta(days=10)\n",
    "            # need to replace hour, minute and second because DST makes the unlock date to drift\n",
    "            unlock_datetime = unlock_datetime.replace(hour=23, minute=59, second=59)\n",
    "            # need to replace hour, minute and second because DST makes the due date to drift\n",
    "            due_datetime = due_datetime.astimezone(pytz.timezone(\"UTC\"))\n",
    "            \n",
    "            print(f\"{module} due date: {due_datetime} UTC\")\n",
    "\n",
    "            # set module unlock 10 days before due\n",
    "            print(f\"module unlock date: {unlock_datetime} Pacific\")\n",
    "\n",
    "            unlock_at_canvas_formatted_iso_string = unlock_datetime.isoformat().split(\"+\")[0] + \"Z\"\n",
    "            if unlock_at_canvas_formatted_iso_string != module.unlock_at:\n",
    "                updated_module = module.edit(module={\n",
    "                    \"unlock_at\": unlock_datetime\n",
    "                })\n",
    "                print(f\"updated {updated_module.name} with unlock date {updated_module.unlock_at}\")\n",
    "            \n",
    "            # loop over module items, and publish\n",
    "            for current_module_item in module.get_module_items():\n",
    "                current_module_item: ModuleItem\n",
    "                print(\"\\t\" + str(current_module_item))\n",
    "\n",
    "                if not current_module_item.published:\n",
    "                    if current_module_item.type == \"Page\" and \"DO NOT PUBLISH\" not in current_module_item.title:\n",
    "                        current_module_item.edit(module_item={\n",
    "                            \"published\": \"true\"\n",
    "                        })\n",
    "                    elif current_module_item.type == \"ExternalTool\":\n",
    "                        current_module_item.edit(module_item={\n",
    "                            \"published\": \"true\"\n",
    "                        })\n",
    "                    elif current_module_item.type == \"SubHeader\":\n",
    "                        current_module_item.edit(module_item={\n",
    "                            \"published\": \"true\"\n",
    "                        })\n",
    "\n",
    "                if current_module_item.type == \"Assignment\": # for each assignment, set due as indicated in module title\n",
    "                    assignment = course.get_assignment(current_module_item.content_id)\n",
    "                    print(f\"\\tdue date {assignment.due_at} and lock date {assignment.due_at}\")\n",
    "\n",
    "                    due_at_canvas_formatted_iso_string = due_datetime.isoformat().split(\"+\")[0] + \"Z\"\n",
    "                    if assignment.due_at != due_at_canvas_formatted_iso_string:\n",
    "                        updated_assignment = assignment.edit(assignment={\n",
    "                            \"due_at\": due_datetime,\n",
    "                            \"lock_at\": due_datetime,\n",
    "                            \"published\": \"true\"\n",
    "                        })\n",
    "                        if updated_assignment.due_at not in updated_assignment.lock_at:\n",
    "                            print(\"PROBLEM\")\n",
    "                        print(f\"updated {updated_assignment.name} with due date {updated_assignment.due_at} and lock date {updated_assignment.due_at}\")\n",
    "                elif current_module_item.type == \"Quiz\": # for each quiz, set due as indicated in module title\n",
    "                    quiz = course.get_quiz(current_module_item.content_id)\n",
    "                    print(f\"\\tdue date {quiz.due_at} and lock date {quiz.due_at}\")\n",
    "\n",
    "                    due_at_canvas_formatted_iso_string = due_datetime.isoformat().split(\"+\")[0] + \"Z\"\n",
    "                    if quiz.due_at != due_at_canvas_formatted_iso_string:\n",
    "                        updated_quiz = quiz.edit(quiz={\n",
    "                            \"due_at\": due_datetime,\n",
    "                            \"lock_at\": due_datetime,\n",
    "                            \"published\": \"true\"\n",
    "                        })\n",
    "                        print(f\"updated {updated_quiz.title} with due date {updated_quiz.due_at} and lock date {updated_quiz.due_at}\")\n",
    "\n",
    "\n",
    "if __name__ == \"__main__\":\n",
    "    main()"
   ]
  },
  {
   "cell_type": "code",
   "execution_count": null,
   "metadata": {},
   "outputs": [],
   "source": [
    "df"
   ]
  },
  {
   "cell_type": "code",
   "execution_count": null,
   "metadata": {},
   "outputs": [],
   "source": [
    "for item in course.get_discussion_topics():\n",
    "    print(item)\n",
    "\n",
    "course.get_discussion_topics"
   ]
  },
  {
   "cell_type": "code",
   "execution_count": null,
   "metadata": {},
   "outputs": [],
   "source": [
    "course = canvas.get_course(df['course'][0])\n",
    "assignment = course.get_assignment(df['assignmentid'][0])\n",
    "# assignment_type = df['assignmenttype'][0]\n",
    "assignment.quiz_id\n",
    "# assignment.discussion_topic['id']\n",
    "quiz = course.get_quiz(assignment.quiz_id)\n",
    "\n",
    "for q in quiz.get_questions():\n",
    "    print(dir(q))\n",
    "    print(q.question_text)\n",
    "    print(q.question_type)\n",
    "    print(q.set_attributes)\n",
    "    print(q.variables)\n",
    "    print(q.answers)\n"
   ]
  },
  {
   "cell_type": "code",
   "execution_count": null,
   "metadata": {},
   "outputs": [],
   "source": [
    "response.choices[0].message.content"
   ]
  },
  {
   "cell_type": "code",
   "execution_count": null,
   "metadata": {},
   "outputs": [],
   "source": [
    "for i in range(0, 3):\n",
    "    {\n",
    "        \"test\": i\n",
    "    },"
   ]
  },
  {
   "cell_type": "code",
   "execution_count": null,
   "metadata": {},
   "outputs": [],
   "source": [
    "discussion_topic.post_entry(message=chat_completion.choices[0].message.content)"
   ]
  },
  {
   "cell_type": "code",
   "execution_count": null,
   "metadata": {},
   "outputs": [],
   "source": [
    "discussion_topic.message, chat_completion.choices[0].message.content"
   ]
  }
 ],
 "metadata": {
  "kernelspec": {
   "display_name": "Python 3",
   "language": "python",
   "name": "python3"
  },
  "language_info": {
   "codemirror_mode": {
    "name": "ipython",
    "version": 3
   },
   "file_extension": ".py",
   "mimetype": "text/x-python",
   "name": "python",
   "nbconvert_exporter": "python",
   "pygments_lexer": "ipython3",
   "version": "3.12.2"
  }
 },
 "nbformat": 4,
 "nbformat_minor": 2
}
